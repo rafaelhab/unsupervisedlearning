{
  "nbformat": 4,
  "nbformat_minor": 0,
  "metadata": {
    "colab": {
      "name": "CLUSTERING_7LABELED.ipynb",
      "version": "0.3.2",
      "provenance": [],
      "include_colab_link": true
    },
    "kernelspec": {
      "display_name": "Python 3",
      "language": "python",
      "name": "python3"
    }
  },
  "cells": [
    {
      "cell_type": "markdown",
      "metadata": {
        "id": "view-in-github",
        "colab_type": "text"
      },
      "source": [
        "<a href=\"https://colab.research.google.com/github/rafaelhab/unsupervisedlearning/blob/master/CLUSTERING_7LABELED.ipynb\" target=\"_parent\"><img src=\"https://colab.research.google.com/assets/colab-badge.svg\" alt=\"Open In Colab\"/></a>"
      ]
    },
    {
      "metadata": {
        "id": "Dq20DrP7GPo6",
        "colab_type": "text"
      },
      "cell_type": "markdown",
      "source": [
        "De los datasets de UCI Machine Learning, tomé Activity Recognition from Single Chest-Mounted Accelerometer Data Set <br>\n",
        "\n",
        "La URL es: https://archive.ics.uci.edu/ml/machine-learning-databases/00287/Activity%20Recognition%20from%20Single%20Chest-Mounted%20Accelerometer.zip\n",
        "\n",
        "https://archive.ics.uci.edu/ml/datasets/Activity+Recognition+from+Single+Chest-Mounted+Accelerometer\n",
        "\n",
        "\n",
        "Source:<br>\n",
        "\n",
        "Uncalibrated Accelerometer Data are collected from 15 participantes performing 7 activities. The dataset provides challenges for identification and authentication of people using motion patterns.\n",
        "\n",
        "\n",
        "Data Set Information:<br>\n",
        "\n",
        "--- The dataset collects data from a wearable accelerometer mounted on the chest <br>\n",
        "--- Sampling frequency of the accelerometer: 52 Hz <br>\n",
        "--- Accelerometer Data are Uncalibrated <br>\n",
        "--- Number of Participants: 15 <br>\n",
        "--- Number of Activities: 7 <br>\n",
        "--- Data Format: CSV<br>\n",
        "\n",
        "Attribute Information:<br>\n",
        "\n",
        "--- Data are separated by participant <br>\n",
        "--- Each file contains the following information <br>\n",
        "---- sequential number, x acceleration, y acceleration, z acceleration, label <br>\n",
        "--- Labels are codified by numbers <br>\n",
        "--- 1: Working at Computer <br>\n",
        "--- 2: Standing Up, Walking and Going updown stairs <br>\n",
        "--- 3: Standing <br>\n",
        "--- 4: Walking <br>\n",
        "--- 5: Going UpDown Stairs <br>\n",
        "--- 6: Walking and Talking with Someone <br>\n",
        "--- 7: Talking while Standing <br>"
      ]
    },
    {
      "metadata": {
        "id": "RXFj0Cb1GPpC",
        "colab_type": "code",
        "colab": {}
      },
      "cell_type": "code",
      "source": [
        "#Importamos las librerías que vamos a usar:\n",
        "import requests\n",
        "import io\n",
        "import zipfile\n",
        "import pandas as pd\n",
        "from sklearn.cluster import KMeans"
      ],
      "execution_count": 0,
      "outputs": []
    },
    {
      "metadata": {
        "id": "_FqWg7knGPpU",
        "colab_type": "code",
        "colab": {}
      },
      "cell_type": "code",
      "source": [
        "#Función para extraer el archivo ZIP\n",
        "def download_extract_zip(url):\n",
        "    \"\"\"\n",
        "    Download a ZIP file and extract its contents in memory\n",
        "    yields (filename, file-like object) pairs\n",
        "    \"\"\"\n",
        "    response = requests.get(url)\n",
        "    with zipfile.ZipFile(io.BytesIO(response.content)) as thezip:\n",
        "        df = pd.DataFrame()\n",
        "        for i in range(1,10):\n",
        "            temp_df = pd.read_csv(thezip.open('Activity Recognition from Single Chest-Mounted Accelerometer/'+str(i)+'.csv'),header=None)\n",
        "            df = df.append(temp_df, ignore_index = True)\n",
        "    \n",
        "    return df"
      ],
      "execution_count": 0,
      "outputs": []
    },
    {
      "metadata": {
        "id": "Z7xT_7YXGPpc",
        "colab_type": "code",
        "colab": {},
        "outputId": "28d37f7a-bdba-49ac-fe68-bddf5abe4514"
      },
      "cell_type": "code",
      "source": [
        "#Extracción del archivo\n",
        "url = 'https://archive.ics.uci.edu/ml/machine-learning-databases/00287/Activity%20Recognition%20from%20Single%20Chest-Mounted%20Accelerometer.zip'\n",
        "\n",
        "Dataset=download_extract_zip(url)\n",
        "\n",
        "Dataset.head()"
      ],
      "execution_count": 0,
      "outputs": [
        {
          "output_type": "execute_result",
          "data": {
            "text/html": [
              "<div>\n",
              "<style scoped>\n",
              "    .dataframe tbody tr th:only-of-type {\n",
              "        vertical-align: middle;\n",
              "    }\n",
              "\n",
              "    .dataframe tbody tr th {\n",
              "        vertical-align: top;\n",
              "    }\n",
              "\n",
              "    .dataframe thead th {\n",
              "        text-align: right;\n",
              "    }\n",
              "</style>\n",
              "<table border=\"1\" class=\"dataframe\">\n",
              "  <thead>\n",
              "    <tr style=\"text-align: right;\">\n",
              "      <th></th>\n",
              "      <th>0</th>\n",
              "      <th>1</th>\n",
              "      <th>2</th>\n",
              "      <th>3</th>\n",
              "      <th>4</th>\n",
              "    </tr>\n",
              "  </thead>\n",
              "  <tbody>\n",
              "    <tr>\n",
              "      <th>0</th>\n",
              "      <td>0.0</td>\n",
              "      <td>1502</td>\n",
              "      <td>2215</td>\n",
              "      <td>2153</td>\n",
              "      <td>1</td>\n",
              "    </tr>\n",
              "    <tr>\n",
              "      <th>1</th>\n",
              "      <td>1.0</td>\n",
              "      <td>1667</td>\n",
              "      <td>2072</td>\n",
              "      <td>2047</td>\n",
              "      <td>1</td>\n",
              "    </tr>\n",
              "    <tr>\n",
              "      <th>2</th>\n",
              "      <td>2.0</td>\n",
              "      <td>1611</td>\n",
              "      <td>1957</td>\n",
              "      <td>1906</td>\n",
              "      <td>1</td>\n",
              "    </tr>\n",
              "    <tr>\n",
              "      <th>3</th>\n",
              "      <td>3.0</td>\n",
              "      <td>1601</td>\n",
              "      <td>1939</td>\n",
              "      <td>1831</td>\n",
              "      <td>1</td>\n",
              "    </tr>\n",
              "    <tr>\n",
              "      <th>4</th>\n",
              "      <td>4.0</td>\n",
              "      <td>1643</td>\n",
              "      <td>1965</td>\n",
              "      <td>1879</td>\n",
              "      <td>1</td>\n",
              "    </tr>\n",
              "  </tbody>\n",
              "</table>\n",
              "</div>"
            ],
            "text/plain": [
              "     0     1     2     3  4\n",
              "0  0.0  1502  2215  2153  1\n",
              "1  1.0  1667  2072  2047  1\n",
              "2  2.0  1611  1957  1906  1\n",
              "3  3.0  1601  1939  1831  1\n",
              "4  4.0  1643  1965  1879  1"
            ]
          },
          "metadata": {
            "tags": []
          },
          "execution_count": 3
        }
      ]
    },
    {
      "metadata": {
        "id": "LFEru5b0GPpm",
        "colab_type": "code",
        "colab": {},
        "outputId": "4171a11e-8cbb-445e-dc44-aabbc24dec16"
      },
      "cell_type": "code",
      "source": [
        "len(Dataset)"
      ],
      "execution_count": 0,
      "outputs": [
        {
          "output_type": "execute_result",
          "data": {
            "text/plain": [
              "1293689"
            ]
          },
          "metadata": {
            "tags": []
          },
          "execution_count": 11
        }
      ]
    },
    {
      "metadata": {
        "id": "ZOVdgoKQGPpu",
        "colab_type": "code",
        "colab": {}
      },
      "cell_type": "code",
      "source": [
        "Dataset=Dataset.dropna() #Borrar NaN\n",
        "Dataset=Dataset[(Dataset[[4]] != 0).all(axis=1)] #Borrar labels con 0 ya que según la descripción no existen"
      ],
      "execution_count": 0,
      "outputs": []
    },
    {
      "metadata": {
        "id": "ZuenbfzbGPpz",
        "colab_type": "code",
        "colab": {}
      },
      "cell_type": "code",
      "source": [
        "#Tomando en cuenta que la columna 0 es un número secuencial y la columna 4 el label, \n",
        "#tomaremos de las columnas 1 a 3 para aplicar el Kmeans\n",
        "X = Dataset.iloc[: , [1,3]].values\n",
        "\n",
        "#los labels son 7 por esto el Kmeans lo dejaré en 7 sin aplicar el elbow method.\n",
        "\n",
        "kmeans = KMeans(n_clusters = 7, init='k-means++', max_iter=300, n_init=10, random_state=0)\n",
        "y_kmeans = kmeans.fit_predict(X)"
      ],
      "execution_count": 0,
      "outputs": []
    },
    {
      "metadata": {
        "id": "XsydbVR1GPp5",
        "colab_type": "code",
        "colab": {}
      },
      "cell_type": "code",
      "source": [
        "#Agrego al final del Dataset la columna means para analizar los resultados\n",
        "Dataset['kmeans']=y_kmeans+1"
      ],
      "execution_count": 0,
      "outputs": []
    },
    {
      "metadata": {
        "id": "8X1tD-K4GPp8",
        "colab_type": "code",
        "colab": {},
        "outputId": "e0457cd9-b51e-4755-953b-939a8631b30d"
      },
      "cell_type": "code",
      "source": [
        "#Revisión de los labels\n",
        "Dataset[4].value_counts()"
      ],
      "execution_count": 0,
      "outputs": [
        {
          "output_type": "execute_result",
          "data": {
            "text/plain": [
              "7    489031\n",
              "1    338942\n",
              "4    222560\n",
              "3    143721\n",
              "6     34371\n",
              "2     30938\n",
              "5     30413\n",
              "Name: 4, dtype: int64"
            ]
          },
          "metadata": {
            "tags": []
          },
          "execution_count": 29
        }
      ]
    },
    {
      "metadata": {
        "id": "g1bv8lApGPqE",
        "colab_type": "code",
        "colab": {},
        "outputId": "0a7b6605-0dd7-49ed-e3d7-56b3ab826c67"
      },
      "cell_type": "code",
      "source": [
        "#Revisión de los predecidos\n",
        "Dataset['kmeans'].value_counts()"
      ],
      "execution_count": 0,
      "outputs": [
        {
          "output_type": "execute_result",
          "data": {
            "text/plain": [
              "2    293951\n",
              "1    271772\n",
              "6    268459\n",
              "4    236318\n",
              "3     89880\n",
              "7     80791\n",
              "5     48805\n",
              "Name: kmeans, dtype: int64"
            ]
          },
          "metadata": {
            "tags": []
          },
          "execution_count": 54
        }
      ]
    },
    {
      "metadata": {
        "id": "oyEMlUIvGPqI",
        "colab_type": "code",
        "colab": {},
        "outputId": "565eeed3-452d-472e-82c5-8750c1606609"
      },
      "cell_type": "code",
      "source": [
        "#R cuadrado\n",
        "from sklearn.metrics import r2_score\n",
        "r2_score(Dataset[4], Dataset['kmeans'])"
      ],
      "execution_count": 0,
      "outputs": [
        {
          "output_type": "execute_result",
          "data": {
            "text/plain": [
              "-0.7386716193159357"
            ]
          },
          "metadata": {
            "tags": []
          },
          "execution_count": 58
        }
      ]
    },
    {
      "metadata": {
        "id": "rOO0oF-ZGPqN",
        "colab_type": "code",
        "colab": {},
        "outputId": "14c73adc-4020-4a02-c0e5-a8446d8cf87f"
      },
      "cell_type": "code",
      "source": [
        "#RMSSTD homogeneidad de los clústeres del agrupamiento\n",
        "from sklearn.metrics.cluster import homogeneity_score\n",
        "homogeneity_score(Dataset.iloc[:100000,4], Dataset.iloc[:100000,5])\n",
        "#Corté el arreglo porque me estaba dando un problema que aún no resuelvo de overflow"
      ],
      "execution_count": 0,
      "outputs": [
        {
          "output_type": "execute_result",
          "data": {
            "text/plain": [
              "0.3049028144086031"
            ]
          },
          "metadata": {
            "tags": []
          },
          "execution_count": 71
        }
      ]
    },
    {
      "metadata": {
        "id": "i86althJGPqR",
        "colab_type": "code",
        "colab": {},
        "outputId": "742d9b63-fa8a-4599-e96a-e3c1ceac200d"
      },
      "cell_type": "code",
      "source": [
        "from sklearn.metrics import mutual_info_score, silhouette_score, calinski_harabaz_score\n",
        "#davies_bouldin_score me da error\n",
        "print(mutual_info_score(Dataset.iloc[:100000,4], Dataset.iloc[:100000,5]))"
      ],
      "execution_count": 0,
      "outputs": [
        {
          "output_type": "stream",
          "text": [
            "0.4726378064034043\n"
          ],
          "name": "stdout"
        }
      ]
    },
    {
      "metadata": {
        "id": "7KuU-J8MGPqW",
        "colab_type": "code",
        "colab": {},
        "outputId": "3335e422-4009-40f5-d55b-676043179f06"
      },
      "cell_type": "code",
      "source": [
        "print(calinski_harabaz_score(X, Dataset['kmeans']))"
      ],
      "execution_count": 0,
      "outputs": [
        {
          "output_type": "stream",
          "text": [
            "984278.6998985157\n"
          ],
          "name": "stdout"
        }
      ]
    }
  ]
}