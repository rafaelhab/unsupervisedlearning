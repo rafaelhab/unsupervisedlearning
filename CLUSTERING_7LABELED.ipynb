{
 "cells": [
  {
   "cell_type": "markdown",
   "metadata": {
    "colab_type": "text",
    "id": "Dq20DrP7GPo6"
   },
   "source": [
    "De los datasets de UCI Machine Learning, tomé Activity Recognition from Single Chest-Mounted Accelerometer Data Set <br>\n",
    "\n",
    "La URL es: https://archive.ics.uci.edu/ml/machine-learning-databases/00287/Activity%20Recognition%20from%20Single%20Chest-Mounted%20Accelerometer.zip\n",
    "\n",
    "https://archive.ics.uci.edu/ml/datasets/Activity+Recognition+from+Single+Chest-Mounted+Accelerometer\n",
    "\n",
    "\n",
    "Source:<br>\n",
    "\n",
    "Uncalibrated Accelerometer Data are collected from 15 participantes performing 7 activities. The dataset provides challenges for identification and authentication of people using motion patterns.\n",
    "\n",
    "\n",
    "Data Set Information:<br>\n",
    "\n",
    "--- The dataset collects data from a wearable accelerometer mounted on the chest <br>\n",
    "--- Sampling frequency of the accelerometer: 52 Hz <br>\n",
    "--- Accelerometer Data are Uncalibrated <br>\n",
    "--- Number of Participants: 15 <br>\n",
    "--- Number of Activities: 7 <br>\n",
    "--- Data Format: CSV<br>\n",
    "\n",
    "Attribute Information:<br>\n",
    "\n",
    "--- Data are separated by participant <br>\n",
    "--- Each file contains the following information <br>\n",
    "---- sequential number, x acceleration, y acceleration, z acceleration, label <br>\n",
    "--- Labels are codified by numbers <br>\n",
    "--- 1: Working at Computer <br>\n",
    "--- 2: Standing Up, Walking and Going updown stairs <br>\n",
    "--- 3: Standing <br>\n",
    "--- 4: Walking <br>\n",
    "--- 5: Going UpDown Stairs <br>\n",
    "--- 6: Walking and Talking with Someone <br>\n",
    "--- 7: Talking while Standing <br>"
   ]
  },
  {
   "cell_type": "code",
   "execution_count": 1,
   "metadata": {
    "colab": {},
    "colab_type": "code",
    "id": "RXFj0Cb1GPpC"
   },
   "outputs": [],
   "source": [
    "#Importamos las librerías que vamos a usar:\n",
    "import requests\n",
    "import io\n",
    "import zipfile\n",
    "import pandas as pd\n",
    "import numpy as np\n",
    "import matplotlib.pyplot as plt\n",
    "from sklearn.cluster import KMeans\n",
    "from scipy.cluster.hierarchy import dendrogram\n",
    "from sklearn.metrics import r2_score\n",
    "from sklearn.metrics.cluster import homogeneity_score\n",
    "from sklearn.metrics import confusion_matrix\n",
    "from sklearn.metrics import mutual_info_score, silhouette_score, davies_bouldin_score, calinski_harabaz_score"
   ]
  },
  {
   "cell_type": "code",
   "execution_count": 2,
   "metadata": {
    "colab": {},
    "colab_type": "code",
    "id": "_FqWg7knGPpU"
   },
   "outputs": [],
   "source": [
    "#Función para extraer el archivo ZIP\n",
    "def download_extract_zip(url):\n",
    "    \"\"\"\n",
    "    Download a ZIP file and extract its contents in memory\n",
    "    yields (filename, file-like object) pairs\n",
    "    \"\"\"\n",
    "    response = requests.get(url)\n",
    "    with zipfile.ZipFile(io.BytesIO(response.content)) as thezip:\n",
    "        df = pd.DataFrame()\n",
    "        for i in range(1,2): #Es de 1 a 10 pero por lo largo de los archivos solo tomé 2 para pruebas\n",
    "            temp_df = pd.read_csv(thezip.open('Activity Recognition from Single Chest-Mounted Accelerometer/'+str(i)+'.csv'),header=None)\n",
    "            df = df.append(temp_df, ignore_index = True)\n",
    "    \n",
    "    return df"
   ]
  },
  {
   "cell_type": "markdown",
   "metadata": {
    "colab_type": "text",
    "id": "N5qS2WeaOS6b"
   },
   "source": [
    "<br>\n",
    "Definimos algunas funciones para las validaciones Extrínsecas <br>\n",
    "<br>"
   ]
  },
  {
   "cell_type": "code",
   "execution_count": 3,
   "metadata": {
    "colab": {},
    "colab_type": "code",
    "id": "aW6UBLr5fXqs"
   },
   "outputs": [],
   "source": [
    "def evaluaciones(DS, DSReal, DSPred):\n",
    "    #Matriz de confusión\n",
    "    cm = confusion_matrix(DSReal, DSPred,labels=[1,2,3,4,5,6,7])\n",
    "    #Precisión y Recall por label\n",
    "    print(\"label precision recall\")\n",
    "    for label in range(1,7):\n",
    "      print(f\"{label:5d} {precision(label, cm):9.3f} {recall(label, cm):6.3f}\")\n",
    "    #Precisión y recall total\n",
    "    print(\"precision total:\", precision_macro_average(cm))\n",
    "    print(\"recall total:\", recall_macro_average(cm))\n",
    "    #Accuracy total\n",
    "    print('Accuracy total: ', accuracy(cm))\n",
    "    #Número de datos por Label Real\n",
    "    print('Número de datos por etiqueta en el Dataset Real')\n",
    "    print(DSReal.value_counts().sort_index())\n",
    "    #Número de datos por Label Pred\n",
    "    print('Número de datos por etiqueta en el Dataset Predecido')\n",
    "    print(DSPred.value_counts().sort_index())    \n",
    "    #R cuadrado\n",
    "    print('R Cuadrado es : ',r2_score(DSReal, DSPred))\n",
    "    #RMSSTD homogeneidad de los clústeres del agrupamiento\n",
    "    print('RMSSTD es: ',homogeneity_score(DSReal, DSPred))\n",
    "    #Mutual Info\n",
    "    print('La información mutua es: ',mutual_info_score(DSReal, DSPred))\n",
    "    #calinski harabaz\n",
    "    #print('calinski harabaz: ',calinski_harabaz_score(DS, DSPred))\n",
    "    "
   ]
  },
  {
   "cell_type": "code",
   "execution_count": 4,
   "metadata": {
    "colab": {},
    "colab_type": "code",
    "id": "_MwpSQABNm43"
   },
   "outputs": [],
   "source": [
    "def precision(label, confusion_matrix):\n",
    "    col = confusion_matrix[:, label]\n",
    "    return confusion_matrix[label, label] / col.sum()\n",
    "    \n",
    "def recall(label, confusion_matrix):\n",
    "    row = confusion_matrix[label, :]\n",
    "    return confusion_matrix[label, label] / row.sum()\n",
    "def precision_macro_average(confusion_matrix):\n",
    "    rows, columns = confusion_matrix.shape\n",
    "    sum_of_precisions = 0\n",
    "    for label in range(rows):\n",
    "        sum_of_precisions += precision(label, confusion_matrix)\n",
    "    return sum_of_precisions / rows\n",
    "def recall_macro_average(confusion_matrix):\n",
    "    rows, columns = confusion_matrix.shape\n",
    "    sum_of_recalls = 0\n",
    "    for label in range(columns):\n",
    "        sum_of_recalls += recall(label, confusion_matrix)\n",
    "    return sum_of_recalls / columns\n",
    "def accuracy(confusion_matrix):\n",
    "    diagonal_sum = confusion_matrix.trace()\n",
    "    sum_of_all_elements = confusion_matrix.sum()\n",
    "    return diagonal_sum / sum_of_all_elements "
   ]
  },
  {
   "cell_type": "markdown",
   "metadata": {
    "colab_type": "text",
    "id": "-_N7VgmBOdso"
   },
   "source": [
    "<br>\n",
    "Se extrae el archivo etiquetado con el que se harán las diferentes pruebas con los modelos <br>\n",
    "<br>"
   ]
  },
  {
   "cell_type": "code",
   "execution_count": 5,
   "metadata": {
    "colab": {
     "base_uri": "https://localhost:8080/",
     "height": 204
    },
    "colab_type": "code",
    "id": "Z7xT_7YXGPpc",
    "outputId": "17ddd17d-92f7-4f2b-aefe-4ef35532295c"
   },
   "outputs": [
    {
     "data": {
      "text/html": [
       "<div>\n",
       "<style scoped>\n",
       "    .dataframe tbody tr th:only-of-type {\n",
       "        vertical-align: middle;\n",
       "    }\n",
       "\n",
       "    .dataframe tbody tr th {\n",
       "        vertical-align: top;\n",
       "    }\n",
       "\n",
       "    .dataframe thead th {\n",
       "        text-align: right;\n",
       "    }\n",
       "</style>\n",
       "<table border=\"1\" class=\"dataframe\">\n",
       "  <thead>\n",
       "    <tr style=\"text-align: right;\">\n",
       "      <th></th>\n",
       "      <th>0</th>\n",
       "      <th>1</th>\n",
       "      <th>2</th>\n",
       "      <th>3</th>\n",
       "      <th>4</th>\n",
       "    </tr>\n",
       "  </thead>\n",
       "  <tbody>\n",
       "    <tr>\n",
       "      <th>0</th>\n",
       "      <td>0.0</td>\n",
       "      <td>1502</td>\n",
       "      <td>2215</td>\n",
       "      <td>2153</td>\n",
       "      <td>1</td>\n",
       "    </tr>\n",
       "    <tr>\n",
       "      <th>1</th>\n",
       "      <td>1.0</td>\n",
       "      <td>1667</td>\n",
       "      <td>2072</td>\n",
       "      <td>2047</td>\n",
       "      <td>1</td>\n",
       "    </tr>\n",
       "    <tr>\n",
       "      <th>2</th>\n",
       "      <td>2.0</td>\n",
       "      <td>1611</td>\n",
       "      <td>1957</td>\n",
       "      <td>1906</td>\n",
       "      <td>1</td>\n",
       "    </tr>\n",
       "    <tr>\n",
       "      <th>3</th>\n",
       "      <td>3.0</td>\n",
       "      <td>1601</td>\n",
       "      <td>1939</td>\n",
       "      <td>1831</td>\n",
       "      <td>1</td>\n",
       "    </tr>\n",
       "    <tr>\n",
       "      <th>4</th>\n",
       "      <td>4.0</td>\n",
       "      <td>1643</td>\n",
       "      <td>1965</td>\n",
       "      <td>1879</td>\n",
       "      <td>1</td>\n",
       "    </tr>\n",
       "  </tbody>\n",
       "</table>\n",
       "</div>"
      ],
      "text/plain": [
       "     0     1     2     3  4\n",
       "0  0.0  1502  2215  2153  1\n",
       "1  1.0  1667  2072  2047  1\n",
       "2  2.0  1611  1957  1906  1\n",
       "3  3.0  1601  1939  1831  1\n",
       "4  4.0  1643  1965  1879  1"
      ]
     },
     "execution_count": 5,
     "metadata": {},
     "output_type": "execute_result"
    }
   ],
   "source": [
    "#Extracción del archivo\n",
    "url = 'https://archive.ics.uci.edu/ml/machine-learning-databases/00287/Activity%20Recognition%20from%20Single%20Chest-Mounted%20Accelerometer.zip'\n",
    "\n",
    "Dataset=download_extract_zip(url)\n",
    "\n",
    "Dataset.head()"
   ]
  },
  {
   "cell_type": "code",
   "execution_count": 6,
   "metadata": {
    "colab": {
     "base_uri": "https://localhost:8080/",
     "height": 34
    },
    "colab_type": "code",
    "id": "LFEru5b0GPpm",
    "outputId": "342650a1-757e-4279-ce92-fbde8e3f7866"
   },
   "outputs": [
    {
     "data": {
      "text/plain": [
       "162501"
      ]
     },
     "execution_count": 6,
     "metadata": {},
     "output_type": "execute_result"
    }
   ],
   "source": [
    "len(Dataset)"
   ]
  },
  {
   "cell_type": "code",
   "execution_count": 7,
   "metadata": {
    "colab": {},
    "colab_type": "code",
    "id": "ZOVdgoKQGPpu"
   },
   "outputs": [],
   "source": [
    "Dataset=Dataset.dropna() #Borrar NaN\n",
    "Dataset=Dataset[(Dataset[[4]] != 0).all(axis=1)] #Borrar labels con 0 ya que según la descripción no existen"
   ]
  },
  {
   "cell_type": "code",
   "execution_count": 8,
   "metadata": {
    "colab": {},
    "colab_type": "code",
    "id": "ZuenbfzbGPpz"
   },
   "outputs": [],
   "source": [
    "#Tomando en cuenta que la columna 0 es un número secuencial y la columna 4 el label, \n",
    "#tomaremos de las columnas 1 a 3 para aplicar el Kmeans\n",
    "X = Dataset.iloc[: , 1:4]\n"
   ]
  },
  {
   "cell_type": "markdown",
   "metadata": {
    "colab_type": "text",
    "id": "1uecCm80fkjD"
   },
   "source": [
    "<br>\n",
    "## **Clusters Basado en Particiones**<br>\n",
    "## **Aplicando Kmeans**<br>\n",
    "<br>"
   ]
  },
  {
   "cell_type": "code",
   "execution_count": 9,
   "metadata": {
    "colab": {},
    "colab_type": "code",
    "id": "LbBgl6Lnfrk5"
   },
   "outputs": [],
   "source": [
    "#los labels son 7 por esto el Kmeans lo dejaré en 7 sin aplicar el elbow method.\n",
    "\n",
    "kmeans = KMeans(n_clusters = 7, init='k-means++', max_iter=200, n_init=200, random_state=0)\n",
    "y_kmeans = kmeans.fit_predict(X)\n",
    "#Agrego al final del Dataset la columna means para analizar los resultados\n",
    "Dataset['kmeans']=y_kmeans+1"
   ]
  },
  {
   "cell_type": "markdown",
   "metadata": {
    "colab_type": "text",
    "id": "HoSk8B2COvQt"
   },
   "source": [
    "<br>\n",
    "Se evalúa el algoritmo <br>"
   ]
  },
  {
   "cell_type": "code",
   "execution_count": 10,
   "metadata": {
    "colab": {
     "base_uri": "https://localhost:8080/",
     "height": 561
    },
    "colab_type": "code",
    "id": "8X1tD-K4GPp8",
    "outputId": "237ab7fd-912d-4d13-d4aa-3e3855f4758c"
   },
   "outputs": [
    {
     "name": "stdout",
     "output_type": "stream",
     "text": [
      "label precision recall\n",
      "    1     0.002  0.083\n",
      "    2     0.024  0.007\n",
      "    3     0.027  0.070\n",
      "    4     0.040  0.186\n",
      "    5     0.085  0.132\n",
      "    6     0.583  0.143\n",
      "precision total: 0.11072672251886735\n",
      "recall total: 0.08953422565009163\n",
      "Accuracy total:  0.09336615384615385\n",
      "Número de datos por etiqueta en el Dataset Real\n",
      "1    33677\n",
      "2      928\n",
      "3    11179\n",
      "4    26860\n",
      "5     3191\n",
      "6     2917\n",
      "7    83748\n",
      "Name: 4, dtype: int64\n",
      "Número de datos por etiqueta en el Dataset Predecido\n",
      "1    10651\n",
      "2    38140\n",
      "3     3202\n",
      "4    70619\n",
      "5    14766\n",
      "6     4532\n",
      "7    20590\n",
      "Name: kmeans, dtype: int64\n",
      "R Cuadrado es :  -0.009240936107933528\n",
      "RMSSTD es:  0.47249282274595733\n",
      "La información mutua es:  0.6276153075113974\n"
     ]
    }
   ],
   "source": [
    "#Aplicar Evluación por indicadores:\n",
    "evaluaciones(X, Dataset[4], Dataset['kmeans'])"
   ]
  },
  {
   "cell_type": "markdown",
   "metadata": {},
   "source": [
    "Con esta aplicación de modelo jugamos un poco el el parámetro n_init y las iteraciones máximas. <br>\n",
    "Un n_init muy grande iba desmejorando el algoritmo, al igual que uno muy pequeño, ese punto de (200) dió el mejor resultado.<br>\n",
    "Sin embargo fueron resultados muy bajos, tomando en cuenta que la precisión total fue de 0.11 y la exhaustividad de 0.089<br>"
   ]
  },
  {
   "cell_type": "markdown",
   "metadata": {
    "colab_type": "text",
    "id": "PGkgoy2yLGgo"
   },
   "source": [
    "<br>\n",
    "## **Clusters por Agrupamiento Jerárquico**<br>\n",
    "## **Aglomerativo**<br>\n",
    "<br>"
   ]
  },
  {
   "cell_type": "markdown",
   "metadata": {},
   "source": [
    "Usare el dataset llamado X_Ds para hacer más rapido los clusters"
   ]
  },
  {
   "cell_type": "code",
   "execution_count": 11,
   "metadata": {
    "colab": {},
    "colab_type": "code",
    "id": "2U7C_hbQSUnn"
   },
   "outputs": [],
   "source": [
    "from sklearn.cluster import AgglomerativeClustering"
   ]
  },
  {
   "cell_type": "code",
   "execution_count": 12,
   "metadata": {
    "colab": {},
    "colab_type": "code",
    "id": "AhNEu1GHcAr0"
   },
   "outputs": [],
   "source": [
    "#Creo un dataset mas pequeño para el cluster jerárquico ya que el dataset completo era demasiado costoso aplicar\n",
    "from sklearn.model_selection import train_test_split\n",
    "#Cree con el mismo que se hace el split para asegurar tomar una muestra de todos los labels\n",
    "X_Ds2, X_Ds = train_test_split(Dataset, test_size = 0.2, random_state = 0)\n",
    "\n",
    "X_Jer=X_Ds.iloc[:,1:4]"
   ]
  },
  {
   "cell_type": "code",
   "execution_count": 13,
   "metadata": {},
   "outputs": [
    {
     "data": {
      "text/plain": [
       "32500"
      ]
     },
     "execution_count": 13,
     "metadata": {},
     "output_type": "execute_result"
    }
   ],
   "source": [
    "len(X_Ds)"
   ]
  },
  {
   "cell_type": "code",
   "execution_count": 14,
   "metadata": {
    "colab": {},
    "colab_type": "code",
    "id": "fJhN-DDNVRLY"
   },
   "outputs": [],
   "source": [
    "modeloAglomerativo = AgglomerativeClustering(n_clusters = 7, affinity = 'euclidean', linkage=\"ward\")\n",
    "modeloAglomerativo = modeloAglomerativo.fit(X_Jer)"
   ]
  },
  {
   "cell_type": "code",
   "execution_count": 15,
   "metadata": {
    "colab": {},
    "colab_type": "code",
    "id": "sZh42AyjVTPM"
   },
   "outputs": [],
   "source": [
    "YAglomerativo = modeloAglomerativo.fit_predict(X_Jer)"
   ]
  },
  {
   "cell_type": "code",
   "execution_count": 16,
   "metadata": {
    "colab": {
     "base_uri": "https://localhost:8080/",
     "height": 119
    },
    "colab_type": "code",
    "id": "78ElLu8dPh1S",
    "outputId": "b69ff027-0532-4a4e-c18d-60d38127f1d2"
   },
   "outputs": [
    {
     "name": "stderr",
     "output_type": "stream",
     "text": [
      "C:\\ProgramData\\Anaconda3\\lib\\site-packages\\ipykernel_launcher.py:2: SettingWithCopyWarning: \n",
      "A value is trying to be set on a copy of a slice from a DataFrame.\n",
      "Try using .loc[row_indexer,col_indexer] = value instead\n",
      "\n",
      "See the caveats in the documentation: http://pandas.pydata.org/pandas-docs/stable/indexing.html#indexing-view-versus-copy\n",
      "  \n"
     ]
    }
   ],
   "source": [
    "#Agrego al final del Dataset la columna means para analizar los resultados\n",
    "X_Ds['jerarquico']=YAglomerativo+1"
   ]
  },
  {
   "cell_type": "code",
   "execution_count": 17,
   "metadata": {
    "colab": {
     "base_uri": "https://localhost:8080/",
     "height": 625
    },
    "colab_type": "code",
    "id": "jNf6ZhQDfXsP",
    "outputId": "d5a73d23-d2f1-4c23-95a7-0eac1e9f3db9"
   },
   "outputs": [
    {
     "data": {
      "image/png": "[encoded data removed]",
      "text/plain": [
       "<Figure size 1800x720 with 1 Axes>"
      ]
     },
     "metadata": {
      "needs_background": "light"
     },
     "output_type": "display_data"
    }
   ],
   "source": [
    "# Creamos la matriz de enlaces que necesita el método dendrogram de scipy\n",
    "uniones = modeloAglomerativo.children_\n",
    "# Las distancias y los tamaños, en esta ocasión, los asignamos de manera \n",
    "# inocua para no alterar el resultado (no disponemos de la información completa)\n",
    "distancias = np.arange(uniones.shape[0])\n",
    "tamanyos = np.arange(2, uniones.shape[0]+2)\n",
    "mEnlaces = np.column_stack([uniones, distancias, tamanyos]).astype(float)\n",
    "\n",
    "plt.figure(figsize=(25, 10))\n",
    "plt.title('Dendrograma de Clustering Jerárquico')\n",
    "plt.xlabel('Índice del caso')\n",
    "plt.ylabel('Distancia')\n",
    "dendrogram(mEnlaces)\n",
    "plt.show()"
   ]
  },
  {
   "cell_type": "markdown",
   "metadata": {
    "colab_type": "text",
    "id": "TTsSnmutdApR"
   },
   "source": [
    "<br>\n",
    "Evaluación del clustering jerárquico <br>\n",
    "<br>"
   ]
  },
  {
   "cell_type": "code",
   "execution_count": 18,
   "metadata": {
    "colab": {
     "base_uri": "https://localhost:8080/",
     "height": 493
    },
    "colab_type": "code",
    "id": "7hZdaLHUkjaq",
    "outputId": "83bdbe7d-d2fb-4118-c406-37145d8e150e"
   },
   "outputs": [
    {
     "name": "stdout",
     "output_type": "stream",
     "text": [
      "label precision recall\n",
      "    1     0.006  0.278\n",
      "    2     0.003  0.011\n",
      "    3     0.559  0.107\n",
      "    4     0.048  0.199\n",
      "    5     0.004  0.057\n",
      "    6     0.772  0.161\n",
      "precision total: 0.19931459116573902\n",
      "recall total: 0.11625661677179497\n",
      "Accuracy total:  0.10836923076923077\n",
      "Número de datos por etiqueta en el Dataset Real\n",
      "1     6670\n",
      "2      205\n",
      "3     2277\n",
      "4     5296\n",
      "5      629\n",
      "6      575\n",
      "7    16848\n",
      "Name: 4, dtype: int64\n",
      "Número de datos por etiqueta en el Dataset Predecido\n",
      "1    1280\n",
      "2    8851\n",
      "3    7364\n",
      "4    1018\n",
      "5    2587\n",
      "6    7890\n",
      "7    3510\n",
      "Name: jerarquico, dtype: int64\n",
      "R Cuadrado es :  -0.2270019408651316\n",
      "RMSSTD es:  0.4863231624983627\n",
      "La información mutua es:  0.6454388382633762\n"
     ]
    }
   ],
   "source": [
    "#Aplicar Evluación por indicadores:\n",
    "evaluaciones(X_Jer, X_Ds[4], X_Ds['jerarquico'])"
   ]
  },
  {
   "cell_type": "markdown",
   "metadata": {},
   "source": [
    "Con este modelo comenzamos a tener problemas por el tamaño del dataset, debido a la cantidad de registros y teniendo en cuenta que el dataset tiene 3 variables, por esta razón lo acortamos, usando el split (train_test_split) para asegurar que iba a tomar valores aleatorios en el dataset. <br>\n",
    "El parámetro afinity también se dejó en euclidean por los mismos problemas de memoria debido al tamaño del dataset.<br>\n",
    "Los resultados totales son un poco mejor que el modelo anterior, la precisión total fue de 0.19 y la exhaustividad de 0.11<br>"
   ]
  },
  {
   "cell_type": "markdown",
   "metadata": {},
   "source": [
    "<br>\n",
    "## **Agrupamiento Espectral**<br>\n",
    "## **Cluster Espectral**<br>\n",
    "<br>"
   ]
  },
  {
   "cell_type": "code",
   "execution_count": 37,
   "metadata": {},
   "outputs": [
    {
     "name": "stderr",
     "output_type": "stream",
     "text": [
      "C:\\ProgramData\\Anaconda3\\lib\\site-packages\\sklearn\\manifold\\spectral_embedding_.py:237: UserWarning: Graph is not fully connected, spectral embedding may not work as expected.\n",
      "  warnings.warn(\"Graph is not fully connected, spectral embedding\"\n"
     ]
    }
   ],
   "source": [
    "from sklearn.cluster import SpectralClustering\n",
    "K = 7\n",
    "knn = 5\n",
    "clustering = SpectralClustering(n_clusters = K, \n",
    "                                affinity = 'nearest_neighbors', n_neighbors = knn,\n",
    "                                #affinity = 'rbf',\n",
    "                                random_state = 0).fit(X_Jer)"
   ]
  },
  {
   "cell_type": "code",
   "execution_count": 20,
   "metadata": {},
   "outputs": [
    {
     "name": "stderr",
     "output_type": "stream",
     "text": [
      "C:\\ProgramData\\Anaconda3\\lib\\site-packages\\ipykernel_launcher.py:2: SettingWithCopyWarning: \n",
      "A value is trying to be set on a copy of a slice from a DataFrame.\n",
      "Try using .loc[row_indexer,col_indexer] = value instead\n",
      "\n",
      "See the caveats in the documentation: http://pandas.pydata.org/pandas-docs/stable/indexing.html#indexing-view-versus-copy\n",
      "  \n"
     ]
    }
   ],
   "source": [
    "#Agrego al final del Dataset la columna means para analizar los resultados\n",
    "X_Ds['espectral']=clustering.labels_+1"
   ]
  },
  {
   "cell_type": "code",
   "execution_count": 21,
   "metadata": {},
   "outputs": [
    {
     "data": {
      "text/html": [
       "<div>\n",
       "<style scoped>\n",
       "    .dataframe tbody tr th:only-of-type {\n",
       "        vertical-align: middle;\n",
       "    }\n",
       "\n",
       "    .dataframe tbody tr th {\n",
       "        vertical-align: top;\n",
       "    }\n",
       "\n",
       "    .dataframe thead th {\n",
       "        text-align: right;\n",
       "    }\n",
       "</style>\n",
       "<table border=\"1\" class=\"dataframe\">\n",
       "  <thead>\n",
       "    <tr style=\"text-align: right;\">\n",
       "      <th></th>\n",
       "      <th>0</th>\n",
       "      <th>1</th>\n",
       "      <th>2</th>\n",
       "      <th>3</th>\n",
       "      <th>4</th>\n",
       "      <th>kmeans</th>\n",
       "      <th>jerarquico</th>\n",
       "      <th>espectral</th>\n",
       "    </tr>\n",
       "  </thead>\n",
       "  <tbody>\n",
       "    <tr>\n",
       "      <th>20097</th>\n",
       "      <td>20097.0</td>\n",
       "      <td>1971</td>\n",
       "      <td>2378</td>\n",
       "      <td>2121</td>\n",
       "      <td>1</td>\n",
       "      <td>2</td>\n",
       "      <td>3</td>\n",
       "      <td>2</td>\n",
       "    </tr>\n",
       "    <tr>\n",
       "      <th>136660</th>\n",
       "      <td>136660.0</td>\n",
       "      <td>1897</td>\n",
       "      <td>2383</td>\n",
       "      <td>1973</td>\n",
       "      <td>7</td>\n",
       "      <td>4</td>\n",
       "      <td>6</td>\n",
       "      <td>7</td>\n",
       "    </tr>\n",
       "    <tr>\n",
       "      <th>102885</th>\n",
       "      <td>102880.0</td>\n",
       "      <td>1907</td>\n",
       "      <td>2386</td>\n",
       "      <td>2009</td>\n",
       "      <td>7</td>\n",
       "      <td>4</td>\n",
       "      <td>6</td>\n",
       "      <td>4</td>\n",
       "    </tr>\n",
       "    <tr>\n",
       "      <th>126058</th>\n",
       "      <td>126060.0</td>\n",
       "      <td>1875</td>\n",
       "      <td>2380</td>\n",
       "      <td>2002</td>\n",
       "      <td>7</td>\n",
       "      <td>4</td>\n",
       "      <td>2</td>\n",
       "      <td>1</td>\n",
       "    </tr>\n",
       "    <tr>\n",
       "      <th>47090</th>\n",
       "      <td>47090.0</td>\n",
       "      <td>1887</td>\n",
       "      <td>2276</td>\n",
       "      <td>2028</td>\n",
       "      <td>4</td>\n",
       "      <td>1</td>\n",
       "      <td>5</td>\n",
       "      <td>3</td>\n",
       "    </tr>\n",
       "  </tbody>\n",
       "</table>\n",
       "</div>"
      ],
      "text/plain": [
       "               0     1     2     3  4  kmeans  jerarquico  espectral\n",
       "20097    20097.0  1971  2378  2121  1       2           3          2\n",
       "136660  136660.0  1897  2383  1973  7       4           6          7\n",
       "102885  102880.0  1907  2386  2009  7       4           6          4\n",
       "126058  126060.0  1875  2380  2002  7       4           2          1\n",
       "47090    47090.0  1887  2276  2028  4       1           5          3"
      ]
     },
     "execution_count": 21,
     "metadata": {},
     "output_type": "execute_result"
    }
   ],
   "source": [
    "X_Ds.head()"
   ]
  },
  {
   "cell_type": "markdown",
   "metadata": {},
   "source": [
    "<br>\n",
    "Aplicar evaluación del modelo <br>\n",
    "<br>"
   ]
  },
  {
   "cell_type": "code",
   "execution_count": 22,
   "metadata": {},
   "outputs": [
    {
     "name": "stdout",
     "output_type": "stream",
     "text": [
      "label precision recall\n",
      "    1     0.001  0.044\n",
      "    2     0.021  0.071\n",
      "    3     0.056  0.076\n",
      "    4     0.000  0.000\n",
      "    5     0.000  0.000\n",
      "    6     0.964  0.290\n",
      "precision total: 0.14892742607912948\n",
      "recall total: 0.06864611130029771\n",
      "Accuracy total:  0.1678769230769231\n",
      "Número de datos por etiqueta en el Dataset Real\n",
      "1     6670\n",
      "2      205\n",
      "3     2277\n",
      "4     5296\n",
      "5      629\n",
      "6      575\n",
      "7    16848\n",
      "Name: 4, dtype: int64\n",
      "Número de datos por etiqueta en el Dataset Predecido\n",
      "1    5844\n",
      "2    6912\n",
      "3    7549\n",
      "4    7115\n",
      "5       5\n",
      "6       5\n",
      "7    5070\n",
      "Name: espectral, dtype: int64\n",
      "R Cuadrado es :  -0.4752111962695509\n",
      "RMSSTD es:  0.4850670192674655\n",
      "La información mutua es:  0.6437717088931081\n"
     ]
    }
   ],
   "source": [
    "#Aplicar Evluación por indicadores:\n",
    "evaluaciones(X, X_Ds[4], X_Ds['espectral'])"
   ]
  },
  {
   "cell_type": "markdown",
   "metadata": {},
   "source": [
    "Con este modelo tomamos el mismo dataset acortado y se tomará en los posteriores modelos, acá los parámetros de affinity 'nearest_neighbors' la verdad fueron los únicos que corrieron, los demás por el tamaño del dataset daban memory error. <br>\n",
    "Los resultados totales fueron semejantes a kmean con una precisión total fue de 0.14 y la exhaustividad de 0.06<br>"
   ]
  },
  {
   "cell_type": "markdown",
   "metadata": {},
   "source": [
    "<br>\n",
    "## **Agrupamiento Densidad**<br>\n",
    "## **DBSCAN**<br>\n",
    "<br>"
   ]
  },
  {
   "cell_type": "code",
   "execution_count": 23,
   "metadata": {},
   "outputs": [],
   "source": [
    "from sklearn.cluster import DBSCAN\n",
    "eps = .1\n",
    "M = 38\n",
    "\n",
    "clustering_db = DBSCAN(eps=eps, min_samples=M).fit(X_Ds)\n"
   ]
  },
  {
   "cell_type": "code",
   "execution_count": 24,
   "metadata": {},
   "outputs": [
    {
     "data": {
      "text/plain": [
       "array([-1, -1, -1, ..., -1, -1, -1], dtype=int64)"
      ]
     },
     "execution_count": 24,
     "metadata": {},
     "output_type": "execute_result"
    }
   ],
   "source": [
    "clustering_db.labels_"
   ]
  },
  {
   "cell_type": "code",
   "execution_count": 25,
   "metadata": {},
   "outputs": [
    {
     "name": "stderr",
     "output_type": "stream",
     "text": [
      "C:\\ProgramData\\Anaconda3\\lib\\site-packages\\ipykernel_launcher.py:2: SettingWithCopyWarning: \n",
      "A value is trying to be set on a copy of a slice from a DataFrame.\n",
      "Try using .loc[row_indexer,col_indexer] = value instead\n",
      "\n",
      "See the caveats in the documentation: http://pandas.pydata.org/pandas-docs/stable/indexing.html#indexing-view-versus-copy\n",
      "  \n"
     ]
    }
   ],
   "source": [
    "#Agrego al final del Dataset la columna means para analizar los resultados\n",
    "X_Ds['dbscan']=clustering_db.labels_+1"
   ]
  },
  {
   "cell_type": "markdown",
   "metadata": {},
   "source": [
    "Aplicar Evaluación <br>"
   ]
  },
  {
   "cell_type": "code",
   "execution_count": 26,
   "metadata": {},
   "outputs": [
    {
     "name": "stderr",
     "output_type": "stream",
     "text": [
      "C:\\ProgramData\\Anaconda3\\lib\\site-packages\\ipykernel_launcher.py:3: RuntimeWarning: invalid value encountered in longlong_scalars\n",
      "  This is separate from the ipykernel package so we can avoid doing imports until\n",
      "C:\\ProgramData\\Anaconda3\\lib\\site-packages\\ipykernel_launcher.py:7: RuntimeWarning: invalid value encountered in longlong_scalars\n",
      "  import sys\n",
      "C:\\ProgramData\\Anaconda3\\lib\\site-packages\\ipykernel_launcher.py:23: RuntimeWarning: invalid value encountered in longlong_scalars\n"
     ]
    },
    {
     "name": "stdout",
     "output_type": "stream",
     "text": [
      "label precision recall\n",
      "    1       nan    nan\n",
      "    2       nan    nan\n",
      "    3       nan    nan\n",
      "    4       nan    nan\n",
      "    5       nan    nan\n",
      "    6       nan    nan\n",
      "precision total: nan\n",
      "recall total: nan\n",
      "Accuracy total:  nan\n",
      "Número de datos por etiqueta en el Dataset Real\n",
      "1     6670\n",
      "2      205\n",
      "3     2277\n",
      "4     5296\n",
      "5      629\n",
      "6      575\n",
      "7    16848\n",
      "Name: 4, dtype: int64\n",
      "Número de datos por etiqueta en el Dataset Predecido\n",
      "0    32500\n",
      "Name: dbscan, dtype: int64\n",
      "R Cuadrado es :  -4.111634904723658\n",
      "RMSSTD es:  -3.9735044080519694e-16\n",
      "La información mutua es:  -5.273559366969494e-16\n"
     ]
    }
   ],
   "source": [
    "#Aplicar Evluación por indicadores:\n",
    "evaluaciones(X, X_Ds[4], X_Ds['dbscan'])"
   ]
  },
  {
   "cell_type": "code",
   "execution_count": 27,
   "metadata": {},
   "outputs": [],
   "source": [
    "from sklearn.cluster import MeanShift\n",
    "h=5\n",
    "clustering = MeanShift(bandwidth = h).fit(X_Ds)"
   ]
  },
  {
   "cell_type": "code",
   "execution_count": 28,
   "metadata": {},
   "outputs": [
    {
     "name": "stderr",
     "output_type": "stream",
     "text": [
      "C:\\ProgramData\\Anaconda3\\lib\\site-packages\\ipykernel_launcher.py:2: SettingWithCopyWarning: \n",
      "A value is trying to be set on a copy of a slice from a DataFrame.\n",
      "Try using .loc[row_indexer,col_indexer] = value instead\n",
      "\n",
      "See the caveats in the documentation: http://pandas.pydata.org/pandas-docs/stable/indexing.html#indexing-view-versus-copy\n",
      "  \n"
     ]
    }
   ],
   "source": [
    "#Agrego al final del Dataset la columna means para analizar los resultados\n",
    "X_Ds['meanshift']=clustering.labels_+1"
   ]
  },
  {
   "cell_type": "markdown",
   "metadata": {},
   "source": [
    "Aplicar Evaluación del modelo <br>"
   ]
  },
  {
   "cell_type": "code",
   "execution_count": 29,
   "metadata": {},
   "outputs": [
    {
     "name": "stderr",
     "output_type": "stream",
     "text": [
      "C:\\ProgramData\\Anaconda3\\lib\\site-packages\\ipykernel_launcher.py:7: RuntimeWarning: invalid value encountered in longlong_scalars\n",
      "  import sys\n"
     ]
    },
    {
     "name": "stdout",
     "output_type": "stream",
     "text": [
      "label precision recall\n",
      "    1     0.000    nan\n",
      "    2     0.000    nan\n",
      "    3     0.000    nan\n",
      "    4     0.000    nan\n",
      "    5     0.000    nan\n",
      "    6     1.000  0.132\n",
      "precision total: 0.14285714285714285\n",
      "recall total: nan\n",
      "Accuracy total:  0.13157894736842105\n",
      "Número de datos por etiqueta en el Dataset Real\n",
      "1     6670\n",
      "2      205\n",
      "3     2277\n",
      "4     5296\n",
      "5      629\n",
      "6      575\n",
      "7    16848\n",
      "Name: 4, dtype: int64\n",
      "Número de datos por etiqueta en el Dataset Predecido\n",
      "1        6\n",
      "2        6\n",
      "3        6\n",
      "4        5\n",
      "5        5\n",
      "6        5\n",
      "7        5\n",
      "8        5\n",
      "9        5\n",
      "10       6\n",
      "11       5\n",
      "12       5\n",
      "13       5\n",
      "14       5\n",
      "15       6\n",
      "16       5\n",
      "17       5\n",
      "18       5\n",
      "19       5\n",
      "20       5\n",
      "21       5\n",
      "22       5\n",
      "23       5\n",
      "24       4\n",
      "25       6\n",
      "26       5\n",
      "27       6\n",
      "28       5\n",
      "29       5\n",
      "30       4\n",
      "        ..\n",
      "28382    1\n",
      "28383    1\n",
      "28384    1\n",
      "28385    1\n",
      "28386    1\n",
      "28387    1\n",
      "28388    1\n",
      "28389    1\n",
      "28390    1\n",
      "28391    1\n",
      "28392    1\n",
      "28393    1\n",
      "28394    1\n",
      "28395    1\n",
      "28396    1\n",
      "28397    1\n",
      "28398    1\n",
      "28399    1\n",
      "28400    1\n",
      "28401    1\n",
      "28402    1\n",
      "28403    1\n",
      "28404    1\n",
      "28405    1\n",
      "28406    1\n",
      "28407    1\n",
      "28408    1\n",
      "28409    1\n",
      "28410    1\n",
      "28411    1\n",
      "Name: meanshift, Length: 28411, dtype: int64\n",
      "R Cuadrado es :  -40135300.53354885\n",
      "RMSSTD es:  1.0\n",
      "La información mutua es:  1.3271809529852472\n"
     ]
    }
   ],
   "source": [
    "#Aplicar Evluación por indicadores:\n",
    "evaluaciones(X, X_Ds[4], X_Ds['meanshift'])"
   ]
  },
  {
   "cell_type": "code",
   "execution_count": 30,
   "metadata": {},
   "outputs": [
    {
     "data": {
      "text/html": [
       "<div>\n",
       "<style scoped>\n",
       "    .dataframe tbody tr th:only-of-type {\n",
       "        vertical-align: middle;\n",
       "    }\n",
       "\n",
       "    .dataframe tbody tr th {\n",
       "        vertical-align: top;\n",
       "    }\n",
       "\n",
       "    .dataframe thead th {\n",
       "        text-align: right;\n",
       "    }\n",
       "</style>\n",
       "<table border=\"1\" class=\"dataframe\">\n",
       "  <thead>\n",
       "    <tr style=\"text-align: right;\">\n",
       "      <th></th>\n",
       "      <th>0</th>\n",
       "      <th>1</th>\n",
       "      <th>2</th>\n",
       "      <th>3</th>\n",
       "      <th>4</th>\n",
       "      <th>kmeans</th>\n",
       "      <th>jerarquico</th>\n",
       "      <th>espectral</th>\n",
       "      <th>dbscan</th>\n",
       "      <th>meanshift</th>\n",
       "    </tr>\n",
       "  </thead>\n",
       "  <tbody>\n",
       "    <tr>\n",
       "      <th>20097</th>\n",
       "      <td>20097.0</td>\n",
       "      <td>1971</td>\n",
       "      <td>2378</td>\n",
       "      <td>2121</td>\n",
       "      <td>1</td>\n",
       "      <td>2</td>\n",
       "      <td>3</td>\n",
       "      <td>2</td>\n",
       "      <td>0</td>\n",
       "      <td>25362</td>\n",
       "    </tr>\n",
       "    <tr>\n",
       "      <th>136660</th>\n",
       "      <td>136660.0</td>\n",
       "      <td>1897</td>\n",
       "      <td>2383</td>\n",
       "      <td>1973</td>\n",
       "      <td>7</td>\n",
       "      <td>4</td>\n",
       "      <td>6</td>\n",
       "      <td>7</td>\n",
       "      <td>0</td>\n",
       "      <td>6779</td>\n",
       "    </tr>\n",
       "    <tr>\n",
       "      <th>102885</th>\n",
       "      <td>102880.0</td>\n",
       "      <td>1907</td>\n",
       "      <td>2386</td>\n",
       "      <td>2009</td>\n",
       "      <td>7</td>\n",
       "      <td>4</td>\n",
       "      <td>6</td>\n",
       "      <td>4</td>\n",
       "      <td>0</td>\n",
       "      <td>10929</td>\n",
       "    </tr>\n",
       "    <tr>\n",
       "      <th>126058</th>\n",
       "      <td>126060.0</td>\n",
       "      <td>1875</td>\n",
       "      <td>2380</td>\n",
       "      <td>2002</td>\n",
       "      <td>7</td>\n",
       "      <td>4</td>\n",
       "      <td>2</td>\n",
       "      <td>1</td>\n",
       "      <td>0</td>\n",
       "      <td>398</td>\n",
       "    </tr>\n",
       "    <tr>\n",
       "      <th>47090</th>\n",
       "      <td>47090.0</td>\n",
       "      <td>1887</td>\n",
       "      <td>2276</td>\n",
       "      <td>2028</td>\n",
       "      <td>4</td>\n",
       "      <td>1</td>\n",
       "      <td>5</td>\n",
       "      <td>3</td>\n",
       "      <td>0</td>\n",
       "      <td>2415</td>\n",
       "    </tr>\n",
       "  </tbody>\n",
       "</table>\n",
       "</div>"
      ],
      "text/plain": [
       "               0     1     2     3  4  kmeans  jerarquico  espectral  dbscan  \\\n",
       "20097    20097.0  1971  2378  2121  1       2           3          2       0   \n",
       "136660  136660.0  1897  2383  1973  7       4           6          7       0   \n",
       "102885  102880.0  1907  2386  2009  7       4           6          4       0   \n",
       "126058  126060.0  1875  2380  2002  7       4           2          1       0   \n",
       "47090    47090.0  1887  2276  2028  4       1           5          3       0   \n",
       "\n",
       "        meanshift  \n",
       "20097       25362  \n",
       "136660       6779  \n",
       "102885      10929  \n",
       "126058        398  \n",
       "47090        2415  "
      ]
     },
     "execution_count": 30,
     "metadata": {},
     "output_type": "execute_result"
    }
   ],
   "source": [
    "X_Ds.head()"
   ]
  },
  {
   "cell_type": "markdown",
   "metadata": {},
   "source": [
    "Para este Dataset ninguno de los algoritmos de agrupamiento por densidad sirvió, primero al no poder parametrizar el número de cluster y sabiendo que teníamos 7 cluster las evaluaciones iban a ser bastante difíciles.\n",
    "Creo que no vale la pena comentar las evaluaciones ya que son resultados que no deberían tomarse en cuenta."
   ]
  },
  {
   "cell_type": "markdown",
   "metadata": {},
   "source": [
    "<br>\n",
    "## **Agrupamiento Probabilistico**<br>\n",
    "## **Mixturas Gausianas**<br>\n",
    "<br>"
   ]
  },
  {
   "cell_type": "code",
   "execution_count": 48,
   "metadata": {},
   "outputs": [],
   "source": [
    "from sklearn.mixture import GaussianMixture\n",
    "# Se inicializa el método con el número de clústeres (componentes) a buscar\n",
    "modelo = GaussianMixture(n_components = 7, max_iter = 200, covariance_type='spherical')\n",
    "# Se aprende el modelo\n",
    "modelo = modelo.fit(X_Ds)\n",
    "# Se predicen las asignaciones a clústeres\n",
    "Dyp_sk = modelo.predict(X_Ds)\n"
   ]
  },
  {
   "cell_type": "code",
   "execution_count": 49,
   "metadata": {},
   "outputs": [
    {
     "name": "stderr",
     "output_type": "stream",
     "text": [
      "C:\\ProgramData\\Anaconda3\\lib\\site-packages\\ipykernel_launcher.py:2: SettingWithCopyWarning: \n",
      "A value is trying to be set on a copy of a slice from a DataFrame.\n",
      "Try using .loc[row_indexer,col_indexer] = value instead\n",
      "\n",
      "See the caveats in the documentation: http://pandas.pydata.org/pandas-docs/stable/indexing.html#indexing-view-versus-copy\n",
      "  \n"
     ]
    }
   ],
   "source": [
    "#Agrego al final del Dataset la columna means para analizar los resultados\n",
    "X_Ds['gaussmix']=Dyp_sk+1"
   ]
  },
  {
   "cell_type": "markdown",
   "metadata": {},
   "source": [
    "Aplicar evaluación del modelo "
   ]
  },
  {
   "cell_type": "code",
   "execution_count": 50,
   "metadata": {},
   "outputs": [
    {
     "name": "stdout",
     "output_type": "stream",
     "text": [
      "label precision recall\n",
      "    1     0.000  0.000\n",
      "    2     0.000  0.000\n",
      "    3     0.708  0.660\n",
      "    4     0.116  1.000\n",
      "    5     0.000  0.000\n",
      "    6     0.000  0.000\n",
      "precision total: 0.11767053760131196\n",
      "recall total: 0.2371331463098835\n",
      "Accuracy total:  0.1268923076923077\n",
      "Número de datos por etiqueta en el Dataset Real\n",
      "1     6670\n",
      "2      205\n",
      "3     2277\n",
      "4     5296\n",
      "5      629\n",
      "6      575\n",
      "7    16848\n",
      "Name: 4, dtype: int64\n",
      "Número de datos por etiqueta en el Dataset Predecido\n",
      "1    5086\n",
      "2    4457\n",
      "3    5408\n",
      "4    4937\n",
      "5    5433\n",
      "6    5400\n",
      "7    1779\n",
      "Name: gaussmix, dtype: int64\n",
      "R Cuadrado es :  -0.8804411644729673\n",
      "RMSSTD es:  0.6889086473332195\n",
      "La información mutua es:  0.9143064350874799\n"
     ]
    }
   ],
   "source": [
    "#Aplicar Evluación por indicadores:\n",
    "evaluaciones(X, X_Ds[4], X_Ds['gaussmix'])"
   ]
  },
  {
   "cell_type": "markdown",
   "metadata": {},
   "source": [
    "Con este modelo, se tomó el ejemplo tal cual como en la VC06, con la única modificación que fue la de asignar la covarianza esférica, dado el tipo de dataset que es de posiciones creo que cada valor debería tener su propia covarianza ya que no se explican unos a otros. <br>\n",
    "Los resultados totales fueron bastante bajos con una precisión total de 0.11 y la exhaustividad de 0.23<br>"
   ]
  }
 ],
 "metadata": {
  "colab": {
   "collapsed_sections": [],
   "name": "CLUSTERING_7LABELED.ipynb",
   "provenance": [],
   "version": "0.3.2"
  },
  "kernelspec": {
   "display_name": "Python 3",
   "language": "python",
   "name": "python3"
  },
  "language_info": {
   "codemirror_mode": {
    "name": "ipython",
    "version": 3
   },
   "file_extension": ".py",
   "mimetype": "text/x-python",
   "name": "python",
   "nbconvert_exporter": "python",
   "pygments_lexer": "ipython3",
   "version": "3.7.3"
  }
 },
 "nbformat": 4,
 "nbformat_minor": 1
}
