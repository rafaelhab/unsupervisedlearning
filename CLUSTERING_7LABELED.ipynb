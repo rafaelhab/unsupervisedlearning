{
  "nbformat": 4,
  "nbformat_minor": 0,
  "metadata": {
    "colab": {
      "name": "CLUSTERING_7LABELED.ipynb",
      "version": "0.3.2",
      "provenance": [],
      "collapsed_sections": [],
      "include_colab_link": true
    },
    "kernelspec": {
      "display_name": "Python 3",
      "language": "python",
      "name": "python3"
    }
  },
  "cells": [
    {
      "cell_type": "markdown",
      "metadata": {
        "id": "view-in-github",
        "colab_type": "text"
      },
      "source": [
        "<a href=\"https://colab.research.google.com/github/rafaelhab/unsupervisedlearning/blob/master/CLUSTERING_7LABELED.ipynb\" target=\"_parent\"><img src=\"https://colab.research.google.com/assets/colab-badge.svg\" alt=\"Open In Colab\"/></a>"
      ]
    },
    {
      "metadata": {
        "colab_type": "text",
        "id": "Dq20DrP7GPo6"
      },
      "cell_type": "markdown",
      "source": [
        "De los datasets de UCI Machine Learning, tomé Activity Recognition from Single Chest-Mounted Accelerometer Data Set <br>\n",
        "\n",
        "La URL es: https://archive.ics.uci.edu/ml/machine-learning-databases/00287/Activity%20Recognition%20from%20Single%20Chest-Mounted%20Accelerometer.zip\n",
        "\n",
        "https://archive.ics.uci.edu/ml/datasets/Activity+Recognition+from+Single+Chest-Mounted+Accelerometer\n",
        "\n",
        "\n",
        "Source:<br>\n",
        "\n",
        "Uncalibrated Accelerometer Data are collected from 15 participantes performing 7 activities. The dataset provides challenges for identification and authentication of people using motion patterns.\n",
        "\n",
        "\n",
        "Data Set Information:<br>\n",
        "\n",
        "--- The dataset collects data from a wearable accelerometer mounted on the chest <br>\n",
        "--- Sampling frequency of the accelerometer: 52 Hz <br>\n",
        "--- Accelerometer Data are Uncalibrated <br>\n",
        "--- Number of Participants: 15 <br>\n",
        "--- Number of Activities: 7 <br>\n",
        "--- Data Format: CSV<br>\n",
        "\n",
        "Attribute Information:<br>\n",
        "\n",
        "--- Data are separated by participant <br>\n",
        "--- Each file contains the following information <br>\n",
        "---- sequential number, x acceleration, y acceleration, z acceleration, label <br>\n",
        "--- Labels are codified by numbers <br>\n",
        "--- 1: Working at Computer <br>\n",
        "--- 2: Standing Up, Walking and Going updown stairs <br>\n",
        "--- 3: Standing <br>\n",
        "--- 4: Walking <br>\n",
        "--- 5: Going UpDown Stairs <br>\n",
        "--- 6: Walking and Talking with Someone <br>\n",
        "--- 7: Talking while Standing <br>"
      ]
    },
    {
      "metadata": {
        "colab_type": "code",
        "id": "RXFj0Cb1GPpC",
        "colab": {}
      },
      "cell_type": "code",
      "source": [
        "#Importamos las librerías que vamos a usar:\n",
        "import requests\n",
        "import io\n",
        "import zipfile\n",
        "import pandas as pd\n",
        "import numpy as np\n",
        "import matplotlib.pyplot as plt\n",
        "from sklearn.cluster import KMeans\n",
        "from scipy.cluster.hierarchy import dendrogram\n",
        "from sklearn.metrics import r2_score\n",
        "from sklearn.metrics.cluster import homogeneity_score\n",
        "from sklearn.metrics import confusion_matrix\n",
        "from sklearn.metrics import mutual_info_score, silhouette_score, davies_bouldin_score, calinski_harabaz_score"
      ],
      "execution_count": 0,
      "outputs": []
    },
    {
      "metadata": {
        "colab_type": "code",
        "id": "_FqWg7knGPpU",
        "colab": {}
      },
      "cell_type": "code",
      "source": [
        "#Función para extraer el archivo ZIP\n",
        "def download_extract_zip(url):\n",
        "    \"\"\"\n",
        "    Download a ZIP file and extract its contents in memory\n",
        "    yields (filename, file-like object) pairs\n",
        "    \"\"\"\n",
        "    response = requests.get(url)\n",
        "    with zipfile.ZipFile(io.BytesIO(response.content)) as thezip:\n",
        "        df = pd.DataFrame()\n",
        "        for i in range(1,2): #Es de 1 a 10 pero por lo largo de los archivos solo tomé 2 para pruebas\n",
        "            temp_df = pd.read_csv(thezip.open('Activity Recognition from Single Chest-Mounted Accelerometer/'+str(i)+'.csv'),header=None)\n",
        "            df = df.append(temp_df, ignore_index = True)\n",
        "    \n",
        "    return df"
      ],
      "execution_count": 0,
      "outputs": []
    },
    {
      "metadata": {
        "id": "aW6UBLr5fXqs",
        "colab_type": "code",
        "colab": {}
      },
      "cell_type": "code",
      "source": [
        "def evaluaciones(DS, DSReal, DSPred):\n",
        "    #Número de datos por Label Real\n",
        "    print('Número de datos por etiqueta en el Dataset Real')\n",
        "    print(DSReal.value_counts())\n",
        "    #Número de datos por Label Pred\n",
        "    print('Número de datos por etiqueta en el Dataset Predecido')\n",
        "    print(DSPred.value_counts())    \n",
        "    #R cuadrado\n",
        "    print('R Cuadrado es : ',r2_score(DSReal, DSPred))\n",
        "    #RMSSTD homogeneidad de los clústeres del agrupamiento\n",
        "    print('RMSSTD es: ',homogeneity_score(DSReal, DSPred))\n",
        "    #Mutual Info\n",
        "    print('La información mutua es: ',mutual_info_score(DSReal, DSPred))\n",
        "    #calinski harabaz\n",
        "    print('calinski harabaz: ',calinski_harabaz_score(DS, DSPred))\n",
        "    "
      ],
      "execution_count": 0,
      "outputs": []
    },
    {
      "metadata": {
        "colab_type": "code",
        "id": "Z7xT_7YXGPpc",
        "outputId": "468ba866-bad6-4fd9-e758-df1937a4dc11",
        "colab": {
          "base_uri": "https://localhost:8080/",
          "height": 204
        }
      },
      "cell_type": "code",
      "source": [
        "#Extracción del archivo\n",
        "url = 'https://archive.ics.uci.edu/ml/machine-learning-databases/00287/Activity%20Recognition%20from%20Single%20Chest-Mounted%20Accelerometer.zip'\n",
        "\n",
        "Dataset=download_extract_zip(url)\n",
        "\n",
        "Dataset.head()"
      ],
      "execution_count": 4,
      "outputs": [
        {
          "output_type": "execute_result",
          "data": {
            "text/html": [
              "<div>\n",
              "<style scoped>\n",
              "    .dataframe tbody tr th:only-of-type {\n",
              "        vertical-align: middle;\n",
              "    }\n",
              "\n",
              "    .dataframe tbody tr th {\n",
              "        vertical-align: top;\n",
              "    }\n",
              "\n",
              "    .dataframe thead th {\n",
              "        text-align: right;\n",
              "    }\n",
              "</style>\n",
              "<table border=\"1\" class=\"dataframe\">\n",
              "  <thead>\n",
              "    <tr style=\"text-align: right;\">\n",
              "      <th></th>\n",
              "      <th>0</th>\n",
              "      <th>1</th>\n",
              "      <th>2</th>\n",
              "      <th>3</th>\n",
              "      <th>4</th>\n",
              "    </tr>\n",
              "  </thead>\n",
              "  <tbody>\n",
              "    <tr>\n",
              "      <th>0</th>\n",
              "      <td>0.0</td>\n",
              "      <td>1502</td>\n",
              "      <td>2215</td>\n",
              "      <td>2153</td>\n",
              "      <td>1</td>\n",
              "    </tr>\n",
              "    <tr>\n",
              "      <th>1</th>\n",
              "      <td>1.0</td>\n",
              "      <td>1667</td>\n",
              "      <td>2072</td>\n",
              "      <td>2047</td>\n",
              "      <td>1</td>\n",
              "    </tr>\n",
              "    <tr>\n",
              "      <th>2</th>\n",
              "      <td>2.0</td>\n",
              "      <td>1611</td>\n",
              "      <td>1957</td>\n",
              "      <td>1906</td>\n",
              "      <td>1</td>\n",
              "    </tr>\n",
              "    <tr>\n",
              "      <th>3</th>\n",
              "      <td>3.0</td>\n",
              "      <td>1601</td>\n",
              "      <td>1939</td>\n",
              "      <td>1831</td>\n",
              "      <td>1</td>\n",
              "    </tr>\n",
              "    <tr>\n",
              "      <th>4</th>\n",
              "      <td>4.0</td>\n",
              "      <td>1643</td>\n",
              "      <td>1965</td>\n",
              "      <td>1879</td>\n",
              "      <td>1</td>\n",
              "    </tr>\n",
              "  </tbody>\n",
              "</table>\n",
              "</div>"
            ],
            "text/plain": [
              "     0     1     2     3  4\n",
              "0  0.0  1502  2215  2153  1\n",
              "1  1.0  1667  2072  2047  1\n",
              "2  2.0  1611  1957  1906  1\n",
              "3  3.0  1601  1939  1831  1\n",
              "4  4.0  1643  1965  1879  1"
            ]
          },
          "metadata": {
            "tags": []
          },
          "execution_count": 4
        }
      ]
    },
    {
      "metadata": {
        "colab_type": "code",
        "id": "LFEru5b0GPpm",
        "outputId": "23e1a2b3-a95d-4527-c503-86ecbc4613e9",
        "colab": {
          "base_uri": "https://localhost:8080/",
          "height": 34
        }
      },
      "cell_type": "code",
      "source": [
        "len(Dataset)"
      ],
      "execution_count": 5,
      "outputs": [
        {
          "output_type": "execute_result",
          "data": {
            "text/plain": [
              "162501"
            ]
          },
          "metadata": {
            "tags": []
          },
          "execution_count": 5
        }
      ]
    },
    {
      "metadata": {
        "colab_type": "code",
        "id": "ZOVdgoKQGPpu",
        "colab": {}
      },
      "cell_type": "code",
      "source": [
        "Dataset=Dataset.dropna() #Borrar NaN\n",
        "Dataset=Dataset[(Dataset[[4]] != 0).all(axis=1)] #Borrar labels con 0 ya que según la descripción no existen"
      ],
      "execution_count": 0,
      "outputs": []
    },
    {
      "metadata": {
        "colab_type": "code",
        "id": "ZuenbfzbGPpz",
        "colab": {}
      },
      "cell_type": "code",
      "source": [
        "#Tomando en cuenta que la columna 0 es un número secuencial y la columna 4 el label, \n",
        "#tomaremos de las columnas 1 a 3 para aplicar el Kmeans\n",
        "X = Dataset.iloc[: , [1,3]].values\n"
      ],
      "execution_count": 0,
      "outputs": []
    },
    {
      "metadata": {
        "id": "1uecCm80fkjD",
        "colab_type": "text"
      },
      "cell_type": "markdown",
      "source": [
        "<br>\n",
        "Aplicando Kmeans<br>\n",
        "<br>"
      ]
    },
    {
      "metadata": {
        "id": "LbBgl6Lnfrk5",
        "colab_type": "code",
        "colab": {}
      },
      "cell_type": "code",
      "source": [
        "#los labels son 7 por esto el Kmeans lo dejaré en 7 sin aplicar el elbow method.\n",
        "\n",
        "kmeans = KMeans(n_clusters = 7, init='k-means++', max_iter=400, n_init=10, random_state=0)\n",
        "y_kmeans = kmeans.fit_predict(X)\n",
        "#Agrego al final del Dataset la columna means para analizar los resultados\n",
        "Dataset['kmeans']=y_kmeans+1"
      ],
      "execution_count": 0,
      "outputs": []
    },
    {
      "metadata": {
        "id": "HnuNJZJ4oHOT",
        "colab_type": "code",
        "colab": {}
      },
      "cell_type": "code",
      "source": [
        "cm = confusion_matrix(Dataset[4], Dataset['kmeans'],labels=[1, 2,3,4,5,6,7])"
      ],
      "execution_count": 0,
      "outputs": []
    },
    {
      "metadata": {
        "id": "o5Uex66jqVFO",
        "colab_type": "code",
        "colab": {}
      },
      "cell_type": "code",
      "source": [
        ""
      ],
      "execution_count": 0,
      "outputs": []
    },
    {
      "metadata": {
        "id": "0y26xSQ2qVOn",
        "colab_type": "code",
        "colab": {}
      },
      "cell_type": "code",
      "source": [
        "def precision(label, confusion_matrix):\n",
        "    col = confusion_matrix[:, label]\n",
        "    return confusion_matrix[label, label] / col.sum()\n",
        "    \n",
        "def recall(label, confusion_matrix):\n",
        "    row = confusion_matrix[label, :]\n",
        "    return confusion_matrix[label, label] / row.sum()\n",
        "def precision_macro_average(confusion_matrix):\n",
        "    rows, columns = confusion_matrix.shape\n",
        "    sum_of_precisions = 0\n",
        "    for label in range(rows):\n",
        "        sum_of_precisions += precision(label, confusion_matrix)\n",
        "    return sum_of_precisions / rows\n",
        "def recall_macro_average(confusion_matrix):\n",
        "    rows, columns = confusion_matrix.shape\n",
        "    sum_of_recalls = 0\n",
        "    for label in range(columns):\n",
        "        sum_of_recalls += recall(label, confusion_matrix)\n",
        "    return sum_of_recalls / columns"
      ],
      "execution_count": 0,
      "outputs": []
    },
    {
      "metadata": {
        "id": "Ol16OF8EqVRn",
        "colab_type": "code",
        "colab": {
          "base_uri": "https://localhost:8080/",
          "height": 136
        },
        "outputId": "790ecf58-9c8d-4fe6-f3f4-cc773344df5b"
      },
      "cell_type": "code",
      "source": [
        "print(\"label precision recall\")\n",
        "for label in range(1,7):\n",
        "    print(f\"{label:5d} {precision(label, cm):9.3f} {recall(label, cm):6.3f}\")"
      ],
      "execution_count": 36,
      "outputs": [
        {
          "output_type": "stream",
          "text": [
            "label precision recall\n",
            "    1     0.001  0.034\n",
            "    2     0.003  0.009\n",
            "    3     0.117  0.156\n",
            "    4     0.021  0.043\n",
            "    5     0.018  0.102\n",
            "    6     0.058  0.003\n"
          ],
          "name": "stdout"
        }
      ]
    },
    {
      "metadata": {
        "id": "vXUIWm5cq_ug",
        "colab_type": "code",
        "colab": {
          "base_uri": "https://localhost:8080/",
          "height": 51
        },
        "outputId": "e8928b1f-ae2d-4c17-9b0e-d7ce34ce4f2b"
      },
      "cell_type": "code",
      "source": [
        "print(\"precision total:\", precision_macro_average(cm))\n",
        "print(\"recall total:\", recall_macro_average(cm))"
      ],
      "execution_count": 37,
      "outputs": [
        {
          "output_type": "stream",
          "text": [
            "precision total: 0.03230571014845322\n",
            "recall total: 0.050584461052472864\n"
          ],
          "name": "stdout"
        }
      ]
    },
    {
      "metadata": {
        "id": "7gVbwxrQqVUW",
        "colab_type": "code",
        "colab": {}
      },
      "cell_type": "code",
      "source": [
        "def accuracy(confusion_matrix):\n",
        "    diagonal_sum = confusion_matrix.trace()\n",
        "    sum_of_all_elements = confusion_matrix.sum()\n",
        "    return diagonal_sum / sum_of_all_elements "
      ],
      "execution_count": 0,
      "outputs": []
    },
    {
      "metadata": {
        "id": "foDMz685rE-m",
        "colab_type": "code",
        "colab": {
          "base_uri": "https://localhost:8080/",
          "height": 34
        },
        "outputId": "58e7fb59-be35-493e-8f79-6d916296a557"
      },
      "cell_type": "code",
      "source": [
        "accuracy(cm)"
      ],
      "execution_count": 39,
      "outputs": [
        {
          "output_type": "execute_result",
          "data": {
            "text/plain": [
              "0.03219076923076923"
            ]
          },
          "metadata": {
            "tags": []
          },
          "execution_count": 39
        }
      ]
    },
    {
      "metadata": {
        "id": "Ffx1yo-0rFGI",
        "colab_type": "code",
        "colab": {}
      },
      "cell_type": "code",
      "source": [
        ""
      ],
      "execution_count": 0,
      "outputs": []
    },
    {
      "metadata": {
        "colab_type": "code",
        "id": "8X1tD-K4GPp8",
        "outputId": "a45f2f9e-95d8-445d-c06f-ac3679da5d78",
        "colab": {
          "base_uri": "https://localhost:8080/",
          "height": 163
        }
      },
      "cell_type": "code",
      "source": [
        "#Aplicar Evluación por indicadores:\n",
        "evaluaciones(X, Dataset[4], Dataset['kmeans'])"
      ],
      "execution_count": 27,
      "outputs": [
        {
          "output_type": "error",
          "ename": "TypeError",
          "evalue": "ignored",
          "traceback": [
            "\u001b[0;31m---------------------------------------------------------------------------\u001b[0m",
            "\u001b[0;31mTypeError\u001b[0m                                 Traceback (most recent call last)",
            "\u001b[0;32m<ipython-input-27-8150015c374f>\u001b[0m in \u001b[0;36m<module>\u001b[0;34m()\u001b[0m\n\u001b[0;32m----> 1\u001b[0;31m \u001b[0mevaluaciones\u001b[0m\u001b[0;34m(\u001b[0m\u001b[0mX\u001b[0m\u001b[0;34m,\u001b[0m \u001b[0mDataset\u001b[0m\u001b[0;34m[\u001b[0m\u001b[0;36m4\u001b[0m\u001b[0;34m]\u001b[0m\u001b[0;34m,\u001b[0m \u001b[0mDataset\u001b[0m\u001b[0;34m[\u001b[0m\u001b[0;34m'kmeans'\u001b[0m\u001b[0;34m]\u001b[0m\u001b[0;34m,\u001b[0m\u001b[0mlabels\u001b[0m\u001b[0;34m=\u001b[0m\u001b[0;34m[\u001b[0m\u001b[0;34m'1'\u001b[0m\u001b[0;34m,\u001b[0m \u001b[0;34m'2'\u001b[0m\u001b[0;34m,\u001b[0m\u001b[0;34m'3'\u001b[0m\u001b[0;34m,\u001b[0m\u001b[0;34m'4'\u001b[0m\u001b[0;34m,\u001b[0m\u001b[0;34m'5'\u001b[0m\u001b[0;34m,\u001b[0m\u001b[0;34m'6'\u001b[0m\u001b[0;34m,\u001b[0m\u001b[0;34m'7'\u001b[0m\u001b[0;34m]\u001b[0m\u001b[0;34m)\u001b[0m\u001b[0;34m\u001b[0m\u001b[0;34m\u001b[0m\u001b[0m\n\u001b[0m",
            "\u001b[0;31mTypeError\u001b[0m: evaluaciones() got an unexpected keyword argument 'labels'"
          ]
        }
      ]
    },
    {
      "metadata": {
        "colab_type": "text",
        "id": "PGkgoy2yLGgo"
      },
      "cell_type": "markdown",
      "source": [
        "<br>\n",
        "Ahora aplicamos Agrupamiento Jerárquico<br>\n",
        "<br>"
      ]
    },
    {
      "metadata": {
        "colab_type": "code",
        "id": "2U7C_hbQSUnn",
        "colab": {}
      },
      "cell_type": "code",
      "source": [
        "from sklearn.cluster import AgglomerativeClustering"
      ],
      "execution_count": 0,
      "outputs": []
    },
    {
      "metadata": {
        "colab_type": "code",
        "id": "fJhN-DDNVRLY",
        "colab": {}
      },
      "cell_type": "code",
      "source": [
        "modeloAglomerativo = AgglomerativeClustering(n_clusters = 7, affinity = 'euclidean', linkage=\"ward\")\n",
        "modeloAglomerativo = modeloAglomerativo.fit(X[:10000,:])"
      ],
      "execution_count": 0,
      "outputs": []
    },
    {
      "metadata": {
        "id": "jNf6ZhQDfXsP",
        "colab_type": "code",
        "colab": {
          "base_uri": "https://localhost:8080/",
          "height": 642
        },
        "outputId": "f7443c06-d315-4501-c6ea-9ec69d92ea07"
      },
      "cell_type": "code",
      "source": [
        "# Creamos la matriz de enlaces que necesita el método dendrogram de scipy\n",
        "uniones = modeloAglomerativo.children_\n",
        "# Las distancias y los tamaños, en esta ocasión, los asignamos de manera \n",
        "# inocua para no alterar el resultado (no disponemos de la información completa)\n",
        "distancias = np.arange(uniones.shape[0])\n",
        "tamanyos = np.arange(2, uniones.shape[0]+2)\n",
        "mEnlaces = np.column_stack([uniones, distancias, tamanyos]).astype(float)\n",
        "\n",
        "plt.figure(figsize=(25, 10))\n",
        "plt.title('Dendrograma de Clustering Jerárquico')\n",
        "plt.xlabel('Índice del caso')\n",
        "plt.ylabel('Distancia')\n",
        "dendrogram(mEnlaces)\n",
        "plt.show()"
      ],
      "execution_count": 21,
      "outputs": [
        {
          "output_type": "display_data",
          "data": {
            "image/png": "[encoded data removed]",
            "text/plain": [
              "<Figure size 1800x720 with 1 Axes>"
            ]
          },
          "metadata": {
            "tags": []
          }
        }
      ]
    },
    {
      "metadata": {
        "id": "7hZdaLHUkjaq",
        "colab_type": "code",
        "colab": {}
      },
      "cell_type": "code",
      "source": [
        ""
      ],
      "execution_count": 0,
      "outputs": []
    }
  ]
}